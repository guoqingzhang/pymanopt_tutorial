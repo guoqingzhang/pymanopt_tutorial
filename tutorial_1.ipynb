{
 "cells": [
  {
   "cell_type": "markdown",
   "metadata": {},
   "source": [
    "# Pymanopt tutorial 1"
   ]
  },
  {
   "cell_type": "markdown",
   "metadata": {},
   "source": [
    "Minimize the following cost function \n",
    "\n",
    "\n",
    "function:\n",
    "\n",
    "  $f = (x-x0)^\\top \\cdot A\\cdot (x-x0)$\n",
    "\n",
    "\n",
    "gradient:\n",
    "\n",
    "  $\\frac{\\partial f}{\\partial x} = 2\\cdot A\\cdot (x-x0)$\n",
    "\n"
   ]
  },
  {
   "cell_type": "code",
   "execution_count": 21,
   "metadata": {},
   "outputs": [],
   "source": [
    "from pymanopt.manifolds import Product, Euclidean, Rotations\n",
    "from pymanopt import Problem\n",
    "from pymanopt.solvers import SteepestDescent"
   ]
  },
  {
   "cell_type": "code",
   "execution_count": 22,
   "metadata": {},
   "outputs": [],
   "source": [
    "def cost(x):\n",
    "    e = np.matrix(x)-np.matrix(x0)\n",
    "    val = (e*np.matrix(A)*e.T).A1[0]\n",
    "    return val"
   ]
  },
  {
   "cell_type": "code",
   "execution_count": 23,
   "metadata": {},
   "outputs": [],
   "source": [
    "def egrad(x):\n",
    "    e = np.matrix(x)-np.matrix(x0)\n",
    "    return (np.matrix(A)*e.T).A1*2"
   ]
  },
  {
   "cell_type": "code",
   "execution_count": 24,
   "metadata": {},
   "outputs": [
    {
     "name": "stdout",
     "output_type": "stream",
     "text": [
      "Compiling cost function...\n",
      " iter\t\t   cost val\t    grad. norm\n",
      "[[-1 -2 -3]]\n",
      "    1\t+1.4000000000000001e+00\t7.48331477e-01\n",
      "[[-0.73273876 -1.46547752 -2.19821627]]\n",
      "    2\t+7.5166852264521167e-01\t5.48331477e-01\n",
      "[[0.53126948 1.06253896 1.59380843]]\n",
      "    3\t+3.9514616088474019e-01\t3.97565673e-01\n",
      "[[-0.42741097 -0.85482194 -1.28223291]]\n",
      "    4\t+2.5575219027786950e-01\t3.19845081e-01\n",
      "[[0.03849716 0.07699432 0.11549148]]\n",
      "    5\t+2.0748437016433318e-03\t2.88086355e-02\n",
      "[[-0.03504646 -0.07009292 -0.10513938]]\n",
      "    6\t+1.7195562131798875e-03\t2.62263700e-02\n",
      "[[-0.02056416 -0.04112831 -0.06169247]]\n",
      "    7\t+5.9203829878176108e-04\t1.53888050e-02\n",
      "[[0.01859962 0.03719924 0.05579885]]\n",
      "    8\t+4.8432410425249727e-04\t1.39186796e-02\n",
      "[[0.01032647 0.02065294 0.03097941]]\n",
      "    9\t+1.4929033061708040e-04\t7.72762138e-03\n",
      "[[-0.00126074 -0.00252148 -0.00378221]]\n",
      "   10\t+2.2252435878567079e-06\t9.43449752e-04\n",
      "[[4.11597984e-05 8.23195968e-05 1.23479395e-04]]\n",
      "   11\t+2.3717806049736435e-09\t3.08011727e-05\n",
      "[[-3.41832490e-05 -6.83664981e-05 -1.02549747e-04]]\n",
      "   12\t+1.6358923196019700e-09\t2.55804012e-05\n",
      "[[-3.42932688e-06 -6.85865377e-06 -1.02879807e-05]]\n",
      "   13\t+1.6464396036510032e-11\t2.56627325e-06\n",
      "[[1.84108710e-06 3.68217419e-06 5.52326129e-06]]\n",
      "   14\t+4.7454423768392399e-12\t1.37774343e-06\n",
      "[[-4.32211434e-07 -8.64422869e-07 -1.29663430e-06]]\n",
      "   15\t+2.6152941371855413e-13\t3.23437421e-07\n",
      "Terminated - min grad norm reached after 15 iterations, 0.03 seconds.\n",
      "\n"
     ]
    }
   ],
   "source": [
    "# optimization in Euclidean space \n",
    "dim = 3\n",
    "\n",
    "x_init = np.array([0,0,0])\n",
    "x0 = np.array([1,2,3])\n",
    "A = np.diag([0.1,0.1,0.1])\n",
    "\n",
    "manifold = Euclidean(dim)\n",
    "p = Problem(manifold=manifold, cost = cost, egrad = egrad)\n",
    "\n",
    "solver = SteepestDescent()\n",
    "Xopt = solver.solve(p, x = x_init)\n"
   ]
  },
  {
   "cell_type": "code",
   "execution_count": 25,
   "metadata": {},
   "outputs": [
    {
     "name": "stdout",
     "output_type": "stream",
     "text": [
      "[1.00000003 2.00000006 3.00000009]\n"
     ]
    }
   ],
   "source": [
    "print(Xopt)"
   ]
  },
  {
   "cell_type": "code",
   "execution_count": null,
   "metadata": {},
   "outputs": [],
   "source": []
  }
 ],
 "metadata": {
  "kernelspec": {
   "display_name": "Python 3",
   "language": "python",
   "name": "python3"
  },
  "language_info": {
   "codemirror_mode": {
    "name": "ipython",
    "version": 3
   },
   "file_extension": ".py",
   "mimetype": "text/x-python",
   "name": "python",
   "nbconvert_exporter": "python",
   "pygments_lexer": "ipython3",
   "version": "3.7.4"
  }
 },
 "nbformat": 4,
 "nbformat_minor": 4
}
